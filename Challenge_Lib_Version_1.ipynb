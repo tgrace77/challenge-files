{
 "cells": [
  {
   "cell_type": "code",
   "execution_count": 6,
   "metadata": {
    "colab": {
     "base_uri": "https://localhost:8080/"
    },
    "id": "xgu09fC116jN",
    "outputId": "bf68e507-6c7a-4085-9dd7-90977a1f5f2e"
   },
   "outputs": [
    {
     "name": "stdout",
     "output_type": "stream",
     "text": [
      "/Users/teddygrace/downloads\n"
     ]
    }
   ],
   "source": []
  },
  {
   "cell_type": "code",
   "execution_count": 4,
   "metadata": {
    "colab": {
     "base_uri": "https://localhost:8080/"
    },
    "id": "iNopDahw2a8S",
    "outputId": "905e8a12-b06a-4d40-ef01-9c6d5e48b244"
   },
   "outputs": [
    {
     "name": "stdout",
     "output_type": "stream",
     "text": [
      "[Errno 2] No such file or directory: '/content/challenge-files/'\n",
      "/Users/teddygrace/Downloads\n"
     ]
    },
    {
     "name": "stderr",
     "output_type": "stream",
     "text": [
      "/opt/homebrew/Cellar/jupyterlab/4.2.1/libexec/lib/python3.12/site-packages/IPython/core/magics/osm.py:393: UserWarning: This is now an optional IPython functionality, using bookmarks requires you to install the `pickleshare` library.\n",
      "  bkms = self.shell.db.get('bookmarks', {})\n"
     ]
    },
    {
     "ename": "ModuleNotFoundError",
     "evalue": "No module named 'torch'",
     "output_type": "error",
     "traceback": [
      "\u001b[0;31m---------------------------------------------------------------------------\u001b[0m",
      "\u001b[0;31mModuleNotFoundError\u001b[0m                       Traceback (most recent call last)",
      "Cell \u001b[0;32mIn[4], line 3\u001b[0m\n\u001b[1;32m      1\u001b[0m \u001b[38;5;66;03m# Import and reload the modules\u001b[39;00m\n\u001b[1;32m      2\u001b[0m get_ipython()\u001b[38;5;241m.\u001b[39mrun_line_magic(\u001b[38;5;124m'\u001b[39m\u001b[38;5;124mcd\u001b[39m\u001b[38;5;124m'\u001b[39m, \u001b[38;5;124m'\u001b[39m\u001b[38;5;124m/content/challenge-files/\u001b[39m\u001b[38;5;124m'\u001b[39m)\n\u001b[0;32m----> 3\u001b[0m \u001b[38;5;28;01mimport\u001b[39;00m \u001b[38;5;21;01mtorch\u001b[39;00m\n\u001b[1;32m      4\u001b[0m \u001b[38;5;28;01mfrom\u001b[39;00m \u001b[38;5;21;01mutils\u001b[39;00m \u001b[38;5;28;01mimport\u001b[39;00m \u001b[38;5;241m*\u001b[39m\n\u001b[1;32m      5\u001b[0m \u001b[38;5;28;01mfrom\u001b[39;00m \u001b[38;5;21;01moptimization\u001b[39;00m \u001b[38;5;28;01mimport\u001b[39;00m \u001b[38;5;241m*\u001b[39m\n",
      "\u001b[0;31mModuleNotFoundError\u001b[0m: No module named 'torch'"
     ]
    }
   ],
   "source": [
    "# Import and reload the modules\n",
    "%cd /content/challenge-files/\n",
    "import torch\n",
    "from utils import *\n",
    "from optimization import *\n",
    "from plot_error_comparison import *\n",
    "from importlib import reload\n",
    "%cd /content/challenge-files/jacob-files/\n",
    "import toy_model_codebase\n",
    "from cvxpy_prediction_algorithm_codebase import *\n",
    "from testing_teddys_pytorch_model import generate_sample_data\n",
    "from metrics_and_plots_codebase import *\n"
   ]
  },
  {
   "cell_type": "code",
   "execution_count": 4,
   "metadata": {
    "colab": {
     "base_uri": "https://localhost:8080/"
    },
    "id": "VJLJ3zdw4GrE",
    "outputId": "9817e76a-29c7-42aa-f7c7-7c31ed62fcff"
   },
   "outputs": [
    {
     "name": "stdout",
     "output_type": "stream",
     "text": [
      "A.shape =  (500,)\n",
      "D.shape =  (2500,)\n",
      "E.shape =  (50, 3)\n",
      "Sigma.shape =  (2500, 3)\n"
     ]
    }
   ],
   "source": [
    "A_list, D_list, E, Sigma, ground_truth_fracs = generate_sample_data()"
   ]
  },
  {
   "cell_type": "code",
   "execution_count": null,
   "metadata": {
    "colab": {
     "base_uri": "https://localhost:8080/"
    },
    "id": "LV3y2_NVQ_sn",
    "outputId": "0bfb7165-09f5-486b-9928-14882fe206af"
   },
   "outputs": [
    {
     "name": "stderr",
     "output_type": "stream",
     "text": [
      "i = 0, W = 0.0:  10%|█         | 21/200 [19:42<2:47:59, 56.31s/it]"
     ]
    }
   ],
   "source": [
    "known = True\n",
    "\n",
    "\n",
    "#Known/Unknown Columns for Matrix E and Sigma\n",
    "total_column_Esig = 20\n",
    "known_column_Esig = 15\n",
    "unknown_column_Esig = 5\n",
    "\n",
    "#rows for Matrix E, as well as Unknown Rows\n",
    "MS_size = 10000\n",
    "\n",
    "#Matrix_E Column:\n",
    "E_size = 100\n",
    "\n",
    "#vector x1 size\n",
    "x1_size = 3\n",
    "x1 = torch.randn(x1_size, requires_grad=True)\n",
    "x2 = torch.randn(x1_size)\n",
    "x3 = torch.randn(x1_size)\n",
    "\n",
    "\n",
    "#vector D size\n",
    "D_size = 100**2\n",
    "\n",
    "#Matrix A Dimensions\n",
    "A_column = 20\n",
    "A_row = 1000\n",
    "if known:\n",
    "  #Constants\n",
    "  C1 = 0.2\n",
    "  num_samples = 200\n",
    "  num_epochs = 10000\n",
    "  W_values = np.linspace(0, 1, 11)\n",
    "  i_values = range(19)\n",
    "  plot_errors(i_values, W_values, num_samples, C1, x1, x2, x3, A_list, D_list, E, Sigma, ground_truth_fracs, known, num_epochs)\n",
    "\n",
    "else:\n",
    "  #Constants\n",
    "  C1 = 0.2\n",
    "  C2 = 0\n",
    "  C3 = 0\n",
    "  C4 = 0\n",
    "  C5 = 0\n",
    "  P = 0\n",
    "  L = 0\n",
    "  W = 0.5\n",
    "  x1_size = 20\n",
    "\n",
    "  grad_descent(C1, C2, C3, C4, C5, P, L, W, known_column_Esig, unknown_column_Esig, x1_size, A_column, A_row, D_size, E_size, MS_size, known = False)\n"
   ]
  }
 ],
 "metadata": {
  "colab": {
   "provenance": []
  },
  "kernelspec": {
   "display_name": "Python 3 (ipykernel)",
   "language": "python",
   "name": "python3"
  },
  "language_info": {
   "codemirror_mode": {
    "name": "ipython",
    "version": 3
   },
   "file_extension": ".py",
   "mimetype": "text/x-python",
   "name": "python",
   "nbconvert_exporter": "python",
   "pygments_lexer": "ipython3",
   "version": "3.12.3"
  }
 },
 "nbformat": 4,
 "nbformat_minor": 4
}
